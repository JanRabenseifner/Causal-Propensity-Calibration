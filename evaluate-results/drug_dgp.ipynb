{
 "cells": [
  {
   "cell_type": "markdown",
   "metadata": {},
   "source": [
    "# Drug DGP"
   ]
  },
  {
   "cell_type": "markdown",
   "metadata": {},
   "source": [
    "Create balanced treatment assignment."
   ]
  },
  {
   "cell_type": "code",
   "execution_count": 1,
   "metadata": {},
   "outputs": [],
   "source": [
    "import os\n",
    "import sys\n",
    "\n",
    "import pandas as pd\n",
    "import numpy as np\n",
    "\n",
    "import matplotlib.pyplot as plt\n",
    "import seaborn as sns\n",
    "from plotnine import *\n",
    "\n",
    "from pathlib import Path\n",
    "from itertools import product\n",
    "project_root = (\n",
    "    Path.cwd()\n",
    "    .parents[0]\n",
    ")\n",
    "sys.path.append(str(project_root))\n",
    "sys.path.append(str(f'{project_root}/run-simulation/py-files'))\n",
    "from utils_calibration import calibrate_propensity_score, compute_ipw_estimate, calibration_errors\n",
    "from utils_dgps import dgp_wrapper\n",
    "\n",
    "from sklearn.ensemble import RandomForestClassifier\n",
    "from sklearn.linear_model import LogisticRegression\n",
    "from sklearn.model_selection import train_test_split\n",
    "from sklearn.isotonic import IsotonicRegression\n",
    "from scipy.stats import beta\n",
    "\n"
   ]
  },
  {
   "cell_type": "markdown",
   "metadata": {},
   "source": [
    "## Base Data"
   ]
  },
  {
   "cell_type": "code",
   "execution_count": 21,
   "metadata": {},
   "outputs": [],
   "source": [
    "n_obs = 2000\n",
    "overlap = 0.5\n",
    "\n",
    "dgp_type=\"sim_v06_drug\"\n",
    "\n",
    "dgp_dict = {\n",
    "    'n_obs':n_obs,\n",
    "    'overlap':overlap}\n",
    "\n",
    "data_dict = dgp_wrapper(dgp_type=dgp_type, **dgp_dict)\n",
    "\n",
    "treatment = data_dict['treatment']\n",
    "outcome = data_dict['outcome']\n",
    "m_0 = data_dict['propensity_score']\n",
    "x = data_dict['covariates']\n"
   ]
  },
  {
   "cell_type": "code",
   "execution_count": 22,
   "metadata": {},
   "outputs": [
    {
     "name": "stdout",
     "output_type": "stream",
     "text": [
      "Treated percentage: 61.20%\n"
     ]
    },
    {
     "data": {
      "image/png": "[encoded data removed]",
      "text/plain": [
       "<Figure size 640x480 with 1 Axes>"
      ]
     },
     "metadata": {},
     "output_type": "display_data"
    }
   ],
   "source": [
    "data = pd.DataFrame({\n",
    "    'X1': x[:,0],\n",
    "    'X2': x[:,1],\n",
    "    'X3': x[:,2],\n",
    "    'D': treatment,\n",
    "    'Y': outcome,\n",
    "    'm_oracle': m_0,\n",
    "    'treatment_effect': [-1] * n_obs\n",
    "})\n",
    "print(f\"Treated percentage: {data['D'].mean() * 100:.2f}%\")\n",
    "\n",
    "# Step 5: Visualize treatment imbalance\n",
    "sns.histplot(data['D'], bins=2, kde=False)\n",
    "plt.title(\"Treatment Assignment (Unbalanced)\")\n",
    "plt.xlabel(\"Treatment\")\n",
    "plt.ylabel(\"Count\")\n",
    "plt.show()"
   ]
  },
  {
   "cell_type": "markdown",
   "metadata": {},
   "source": [
    "## Estimated propensity score"
   ]
  },
  {
   "cell_type": "code",
   "execution_count": 23,
   "metadata": {},
   "outputs": [
    {
     "data": {
      "application/vnd.microsoft.datawrangler.viewer.v0+json": {
       "columns": [
        {
         "name": "index",
         "rawType": "int64",
         "type": "integer"
        },
        {
         "name": "X1",
         "rawType": "float64",
         "type": "float"
        },
        {
         "name": "X2",
         "rawType": "float64",
         "type": "float"
        },
        {
         "name": "X3",
         "rawType": "float64",
         "type": "float"
        },
        {
         "name": "D",
         "rawType": "int32",
         "type": "integer"
        },
        {
         "name": "Y",
         "rawType": "int32",
         "type": "integer"
        },
        {
         "name": "m_oracle",
         "rawType": "float64",
         "type": "float"
        },
        {
         "name": "treatment_effect",
         "rawType": "int64",
         "type": "integer"
        },
        {
         "name": "m_hat",
         "rawType": "float64",
         "type": "float"
        },
        {
         "name": "m_calibrated",
         "rawType": "float64",
         "type": "float"
        }
       ],
       "conversionMethod": "pd.DataFrame",
       "ref": "7c7a0f97-9182-424c-a689-7598fefe8602",
       "rows": [
        [
         "440",
         "0.0",
         "56.356132628772535",
         "0.4604348681752049",
         "1",
         "5",
         "0.8225557164415912",
         "-1",
         "0.875",
         "1.0"
        ],
        [
         "573",
         "1.0",
         "57.71123216713794",
         "0.8551141674175492",
         "1",
         "6",
         "0.9061152412033405",
         "-1",
         "0.965",
         "1.0"
        ],
        [
         "946",
         "0.0",
         "43.88183012630067",
         "0.5112922791774853",
         "0",
         "8",
         "0.4881506537214505",
         "-1",
         "0.33",
         "0.0"
        ],
        [
         "997",
         "0.0",
         "46.55542403705444",
         "0.2679565866593235",
         "0",
         "4",
         "0.502323243938022",
         "-1",
         "0.18",
         "0.0"
        ],
        [
         "503",
         "1.0",
         "50.35596602233256",
         "0.6138129045694021",
         "0",
         "3",
         "0.6972562165821165",
         "-1",
         "0.18",
         "0.0"
        ]
       ],
       "shape": {
        "columns": 9,
        "rows": 5
       }
      },
      "text/html": [
       "<div>\n",
       "<style scoped>\n",
       "    .dataframe tbody tr th:only-of-type {\n",
       "        vertical-align: middle;\n",
       "    }\n",
       "\n",
       "    .dataframe tbody tr th {\n",
       "        vertical-align: top;\n",
       "    }\n",
       "\n",
       "    .dataframe thead th {\n",
       "        text-align: right;\n",
       "    }\n",
       "</style>\n",
       "<table border=\"1\" class=\"dataframe\">\n",
       "  <thead>\n",
       "    <tr style=\"text-align: right;\">\n",
       "      <th></th>\n",
       "      <th>X1</th>\n",
       "      <th>X2</th>\n",
       "      <th>X3</th>\n",
       "      <th>D</th>\n",
       "      <th>Y</th>\n",
       "      <th>m_oracle</th>\n",
       "      <th>treatment_effect</th>\n",
       "      <th>m_hat</th>\n",
       "      <th>m_calibrated</th>\n",
       "    </tr>\n",
       "  </thead>\n",
       "  <tbody>\n",
       "    <tr>\n",
       "      <th>440</th>\n",
       "      <td>0.0</td>\n",
       "      <td>56.356133</td>\n",
       "      <td>0.460435</td>\n",
       "      <td>1</td>\n",
       "      <td>5</td>\n",
       "      <td>0.822556</td>\n",
       "      <td>-1</td>\n",
       "      <td>0.875</td>\n",
       "      <td>1.0</td>\n",
       "    </tr>\n",
       "    <tr>\n",
       "      <th>573</th>\n",
       "      <td>1.0</td>\n",
       "      <td>57.711232</td>\n",
       "      <td>0.855114</td>\n",
       "      <td>1</td>\n",
       "      <td>6</td>\n",
       "      <td>0.906115</td>\n",
       "      <td>-1</td>\n",
       "      <td>0.965</td>\n",
       "      <td>1.0</td>\n",
       "    </tr>\n",
       "    <tr>\n",
       "      <th>946</th>\n",
       "      <td>0.0</td>\n",
       "      <td>43.881830</td>\n",
       "      <td>0.511292</td>\n",
       "      <td>0</td>\n",
       "      <td>8</td>\n",
       "      <td>0.488151</td>\n",
       "      <td>-1</td>\n",
       "      <td>0.330</td>\n",
       "      <td>0.0</td>\n",
       "    </tr>\n",
       "    <tr>\n",
       "      <th>997</th>\n",
       "      <td>0.0</td>\n",
       "      <td>46.555424</td>\n",
       "      <td>0.267957</td>\n",
       "      <td>0</td>\n",
       "      <td>4</td>\n",
       "      <td>0.502323</td>\n",
       "      <td>-1</td>\n",
       "      <td>0.180</td>\n",
       "      <td>0.0</td>\n",
       "    </tr>\n",
       "    <tr>\n",
       "      <th>503</th>\n",
       "      <td>1.0</td>\n",
       "      <td>50.355966</td>\n",
       "      <td>0.613813</td>\n",
       "      <td>0</td>\n",
       "      <td>3</td>\n",
       "      <td>0.697256</td>\n",
       "      <td>-1</td>\n",
       "      <td>0.180</td>\n",
       "      <td>0.0</td>\n",
       "    </tr>\n",
       "  </tbody>\n",
       "</table>\n",
       "</div>"
      ],
      "text/plain": [
       "      X1         X2        X3  D  Y  m_oracle  treatment_effect  m_hat  \\\n",
       "440  0.0  56.356133  0.460435  1  5  0.822556                -1  0.875   \n",
       "573  1.0  57.711232  0.855114  1  6  0.906115                -1  0.965   \n",
       "946  0.0  43.881830  0.511292  0  8  0.488151                -1  0.330   \n",
       "997  0.0  46.555424  0.267957  0  4  0.502323                -1  0.180   \n",
       "503  1.0  50.355966  0.613813  0  3  0.697256                -1  0.180   \n",
       "\n",
       "     m_calibrated  \n",
       "440           1.0  \n",
       "573           1.0  \n",
       "946           0.0  \n",
       "997           0.0  \n",
       "503           0.0  "
      ]
     },
     "execution_count": 23,
     "metadata": {},
     "output_type": "execute_result"
    }
   ],
   "source": [
    "covariates = ['X1', 'X2', 'X3']\n",
    "\n",
    "df_train, df_test = train_test_split(data, test_size=0.5, random_state=42)\n",
    "\n",
    "# Step 6: Fit a Random Forest to estimate the propensity scores\n",
    "model = RandomForestClassifier(n_estimators=200, random_state=42)\n",
    "#model = LogisticRegression(random_state=42)\n",
    "model.fit(df_train[covariates], df_train['D'])\n",
    "\n",
    "for df in [df_train, df_test]:\n",
    "    df['m_hat'] = model.predict_proba(df[covariates])[:, 1]\n",
    "\n",
    "    calibrator = IsotonicRegression(out_of_bounds='clip', y_min=0, y_max=1)\n",
    "    df['m_calibrated'] = calibrator.fit_transform(df['m_hat'], df['D'])\n",
    "\n",
    "df_train.head()"
   ]
  },
  {
   "cell_type": "markdown",
   "metadata": {},
   "source": [
    "## Define weights"
   ]
  },
  {
   "cell_type": "code",
   "execution_count": 24,
   "metadata": {},
   "outputs": [],
   "source": [
    "clipping_threshold = 1e-12\n",
    "\n",
    "for df in [df_train, df_test]:\n",
    "    for ps in ['m_oracle', 'm_hat', 'm_calibrated']:\n",
    "        ps_clipped = df[ps].clip(clipping_threshold, 1.0 - clipping_threshold)\n",
    "\n",
    "        df[f'{ps}_ate_weights'] = df['D'] / ps_clipped + (1 - df['D']) / (1 - ps_clipped)\n",
    "        df[f'{ps}_att_weights'] = df['D'] + (1 - df['D']) * ps_clipped / (1 - ps_clipped)"
   ]
  },
  {
   "cell_type": "markdown",
   "metadata": {},
   "source": [
    "## Save Data"
   ]
  },
  {
   "cell_type": "code",
   "execution_count": 25,
   "metadata": {},
   "outputs": [],
   "source": [
    "dgp_name = \"drug\"\n",
    "df_train.to_csv(f'results/{dgp_name}_train.csv', index=False)\n",
    "df_test.to_csv(f'results/{dgp_name}_test.csv', index=False)"
   ]
  },
  {
   "cell_type": "markdown",
   "metadata": {},
   "source": [
    "## Add additional methods"
   ]
  },
  {
   "cell_type": "code",
   "execution_count": 26,
   "metadata": {},
   "outputs": [],
   "source": [
    "import os\n",
    "\n",
    "os.environ['R_HOME'] = 'C:\\\\Program Files\\\\R\\\\R-4.1.0'\n",
    "os.environ['PATH'] = os.environ['R_HOME'] + '\\\\bin\\\\x64;' + os.environ['PATH']\n",
    "\n",
    "import rpy2.robjects as robjects\n",
    "from rpy2.robjects import pandas2ri\n",
    "from rpy2.robjects.packages import importr, isinstalled, importr"
   ]
  },
  {
   "cell_type": "code",
   "execution_count": 27,
   "metadata": {},
   "outputs": [
    {
     "data": {
      "application/vnd.microsoft.datawrangler.viewer.v0+json": {
       "columns": [
        {
         "name": "index",
         "rawType": "int64",
         "type": "integer"
        },
        {
         "name": "X1",
         "rawType": "float64",
         "type": "float"
        },
        {
         "name": "X2",
         "rawType": "float64",
         "type": "float"
        },
        {
         "name": "X3",
         "rawType": "float64",
         "type": "float"
        },
        {
         "name": "D",
         "rawType": "int32",
         "type": "integer"
        },
        {
         "name": "Y",
         "rawType": "int32",
         "type": "integer"
        },
        {
         "name": "m_oracle",
         "rawType": "float64",
         "type": "float"
        },
        {
         "name": "m_glm_ate",
         "rawType": "float64",
         "type": "float"
        },
        {
         "name": "m_glm_att",
         "rawType": "float64",
         "type": "float"
        },
        {
         "name": "m_glm_ate_weights",
         "rawType": "float64",
         "type": "float"
        },
        {
         "name": "m_glm_att_weights",
         "rawType": "float64",
         "type": "float"
        },
        {
         "name": "m_optweight_ate",
         "rawType": "float64",
         "type": "float"
        },
        {
         "name": "m_optweight_att",
         "rawType": "float64",
         "type": "float"
        },
        {
         "name": "m_optweight_ate_weights",
         "rawType": "float64",
         "type": "float"
        },
        {
         "name": "m_optweight_att_weights",
         "rawType": "float64",
         "type": "float"
        },
        {
         "name": "m_ebal_ate",
         "rawType": "float64",
         "type": "float"
        },
        {
         "name": "m_ebal_att",
         "rawType": "float64",
         "type": "float"
        },
        {
         "name": "m_ebal_ate_weights",
         "rawType": "float64",
         "type": "float"
        },
        {
         "name": "m_ebal_att_weights",
         "rawType": "float64",
         "type": "float"
        },
        {
         "name": "m_ipt_ate",
         "rawType": "float64",
         "type": "float"
        },
        {
         "name": "m_ipt_att",
         "rawType": "float64",
         "type": "float"
        },
        {
         "name": "m_ipt_ate_weights",
         "rawType": "float64",
         "type": "float"
        },
        {
         "name": "m_ipt_att_weights",
         "rawType": "float64",
         "type": "float"
        },
        {
         "name": "m_cbps_ate",
         "rawType": "float64",
         "type": "float"
        },
        {
         "name": "m_cbps_att",
         "rawType": "float64",
         "type": "float"
        },
        {
         "name": "m_cbps_ate_weights",
         "rawType": "float64",
         "type": "float"
        },
        {
         "name": "m_cbps_att_weights",
         "rawType": "float64",
         "type": "float"
        },
        {
         "name": "m_hat",
         "rawType": "float64",
         "type": "float"
        },
        {
         "name": "m_calibrated",
         "rawType": "float64",
         "type": "float"
        }
       ],
       "conversionMethod": "pd.DataFrame",
       "ref": "8c76bde9-f55f-49d4-b9ef-2e52c379e4c8",
       "rows": [
        [
         "440",
         "0.0",
         "56.356132628772535",
         "0.4604348681752049",
         "1",
         "5",
         "0.8225557164415912",
         "0.6929974699483472",
         null,
         "1.443006711228737",
         "1.0",
         "0.999999999999",
         "0.999999999999",
         "0.9500041625631784",
         "1.0000000000000029",
         "0.999999999999",
         null,
         "0.9245866989421659",
         "1.0",
         "0.6852649076277054",
         null,
         "1.459289668665312",
         "1.0",
         "0.6989101485255476",
         null,
         "1.4307990835583733",
         "1.0",
         "0.6910624122850829",
         "0.7017543859649122"
        ],
        [
         "573",
         "1.0",
         "57.71123216713794",
         "0.8551141674175492",
         "1",
         "6",
         "0.9061152412033405",
         "0.8531220629958869",
         null,
         "1.172165207506562",
         "1.0",
         "0.999999999999",
         "0.999999999999",
         "0.6008675443716658",
         "1.0000000000000029",
         "0.999999999999",
         null,
         "0.6538263306788045",
         "1.0",
         "0.8444810395302536",
         null,
         "1.1841592092538331",
         "1.0",
         "0.8575518309212687",
         null,
         "1.1661102733880226",
         "1.0",
         "0.8339727341700437",
         "0.8333333333333334"
        ],
        [
         "946",
         "0.0",
         "43.88183012630067",
         "0.5112922791774853",
         "0",
         "8",
         "0.4881506537214505",
         "0.6211859838531195",
         "0.6211859838531196",
         "2.6398178456318324",
         "1.6398178456318326",
         "0.16442491660570213",
         "0.5647936363653815",
         "1.1967805405802316",
         "1.2977605190524262",
         "0.08242652528754602",
         "0.5109156414160114",
         "1.0898309809068714",
         "1.0446370497212987",
         "0.622317137335666",
         "0.6223171373356661",
         "2.647724053311762",
         "1.6477240533117625",
         "0.6245329956773258",
         "0.6223171373086434",
         "2.6633498775849973",
         "1.6477240531223214",
         "0.6324988829714845",
         "0.5221674876847291"
        ],
        [
         "997",
         "0.0",
         "46.55542403705444",
         "0.2679565866593235",
         "0",
         "4",
         "0.502323243938022",
         "0.5102102312272351",
         "0.5102102312272351",
         "2.041692300975654",
         "1.041692300975654",
         "1e-12",
         "0.4236098471392366",
         "0.8589586728775636",
         "0.734935954468963",
         "1e-12",
         "0.393955728795301",
         "0.8043898076150631",
         "0.6500444728438618",
         "0.5062524935739119",
         "0.5062524935739112",
         "2.025326684155509",
         "1.0253266841555064",
         "0.5125711047305868",
         "0.5062524935634906",
         "2.051581286430048",
         "1.025326684112761",
         "0.5339026377853688",
         "0.48717948717948717"
        ],
        [
         "503",
         "1.0",
         "50.35596602233256",
         "0.6138129045694021",
         "0",
         "3",
         "0.6972562165821165",
         "0.7233886849011116",
         "0.7233886849011116",
         "3.6151811058144916",
         "2.6151811058144916",
         "0.3328491508405723",
         "0.646666798796865",
         "1.4989113800273857",
         "1.830189737604334",
         "0.3177786854481258",
         "0.6284993417051499",
         "1.465799995792953",
         "1.6917852705561742",
         "0.7274081603356909",
         "0.7274081603356918",
         "3.6684883936051724",
         "2.668488393605184",
         "0.7271147714379146",
         "0.7274081602821768",
         "3.664544267453763",
         "2.66848839288499",
         "0.7147811998000644",
         "0.7611940298507462"
        ]
       ],
       "shape": {
        "columns": 28,
        "rows": 5
       }
      },
      "text/html": [
       "<div>\n",
       "<style scoped>\n",
       "    .dataframe tbody tr th:only-of-type {\n",
       "        vertical-align: middle;\n",
       "    }\n",
       "\n",
       "    .dataframe tbody tr th {\n",
       "        vertical-align: top;\n",
       "    }\n",
       "\n",
       "    .dataframe thead th {\n",
       "        text-align: right;\n",
       "    }\n",
       "</style>\n",
       "<table border=\"1\" class=\"dataframe\">\n",
       "  <thead>\n",
       "    <tr style=\"text-align: right;\">\n",
       "      <th></th>\n",
       "      <th>X1</th>\n",
       "      <th>X2</th>\n",
       "      <th>X3</th>\n",
       "      <th>D</th>\n",
       "      <th>Y</th>\n",
       "      <th>m_oracle</th>\n",
       "      <th>m_glm_ate</th>\n",
       "      <th>m_glm_att</th>\n",
       "      <th>m_glm_ate_weights</th>\n",
       "      <th>m_glm_att_weights</th>\n",
       "      <th>...</th>\n",
       "      <th>m_ipt_ate</th>\n",
       "      <th>m_ipt_att</th>\n",
       "      <th>m_ipt_ate_weights</th>\n",
       "      <th>m_ipt_att_weights</th>\n",
       "      <th>m_cbps_ate</th>\n",
       "      <th>m_cbps_att</th>\n",
       "      <th>m_cbps_ate_weights</th>\n",
       "      <th>m_cbps_att_weights</th>\n",
       "      <th>m_hat</th>\n",
       "      <th>m_calibrated</th>\n",
       "    </tr>\n",
       "  </thead>\n",
       "  <tbody>\n",
       "    <tr>\n",
       "      <th>440</th>\n",
       "      <td>0.0</td>\n",
       "      <td>56.356133</td>\n",
       "      <td>0.460435</td>\n",
       "      <td>1</td>\n",
       "      <td>5</td>\n",
       "      <td>0.822556</td>\n",
       "      <td>0.692997</td>\n",
       "      <td>NaN</td>\n",
       "      <td>1.443007</td>\n",
       "      <td>1.000000</td>\n",
       "      <td>...</td>\n",
       "      <td>0.685265</td>\n",
       "      <td>NaN</td>\n",
       "      <td>1.459290</td>\n",
       "      <td>1.000000</td>\n",
       "      <td>0.698910</td>\n",
       "      <td>NaN</td>\n",
       "      <td>1.430799</td>\n",
       "      <td>1.000000</td>\n",
       "      <td>0.691062</td>\n",
       "      <td>0.701754</td>\n",
       "    </tr>\n",
       "    <tr>\n",
       "      <th>573</th>\n",
       "      <td>1.0</td>\n",
       "      <td>57.711232</td>\n",
       "      <td>0.855114</td>\n",
       "      <td>1</td>\n",
       "      <td>6</td>\n",
       "      <td>0.906115</td>\n",
       "      <td>0.853122</td>\n",
       "      <td>NaN</td>\n",
       "      <td>1.172165</td>\n",
       "      <td>1.000000</td>\n",
       "      <td>...</td>\n",
       "      <td>0.844481</td>\n",
       "      <td>NaN</td>\n",
       "      <td>1.184159</td>\n",
       "      <td>1.000000</td>\n",
       "      <td>0.857552</td>\n",
       "      <td>NaN</td>\n",
       "      <td>1.166110</td>\n",
       "      <td>1.000000</td>\n",
       "      <td>0.833973</td>\n",
       "      <td>0.833333</td>\n",
       "    </tr>\n",
       "    <tr>\n",
       "      <th>946</th>\n",
       "      <td>0.0</td>\n",
       "      <td>43.881830</td>\n",
       "      <td>0.511292</td>\n",
       "      <td>0</td>\n",
       "      <td>8</td>\n",
       "      <td>0.488151</td>\n",
       "      <td>0.621186</td>\n",
       "      <td>0.621186</td>\n",
       "      <td>2.639818</td>\n",
       "      <td>1.639818</td>\n",
       "      <td>...</td>\n",
       "      <td>0.622317</td>\n",
       "      <td>0.622317</td>\n",
       "      <td>2.647724</td>\n",
       "      <td>1.647724</td>\n",
       "      <td>0.624533</td>\n",
       "      <td>0.622317</td>\n",
       "      <td>2.663350</td>\n",
       "      <td>1.647724</td>\n",
       "      <td>0.632499</td>\n",
       "      <td>0.522167</td>\n",
       "    </tr>\n",
       "    <tr>\n",
       "      <th>997</th>\n",
       "      <td>0.0</td>\n",
       "      <td>46.555424</td>\n",
       "      <td>0.267957</td>\n",
       "      <td>0</td>\n",
       "      <td>4</td>\n",
       "      <td>0.502323</td>\n",
       "      <td>0.510210</td>\n",
       "      <td>0.510210</td>\n",
       "      <td>2.041692</td>\n",
       "      <td>1.041692</td>\n",
       "      <td>...</td>\n",
       "      <td>0.506252</td>\n",
       "      <td>0.506252</td>\n",
       "      <td>2.025327</td>\n",
       "      <td>1.025327</td>\n",
       "      <td>0.512571</td>\n",
       "      <td>0.506252</td>\n",
       "      <td>2.051581</td>\n",
       "      <td>1.025327</td>\n",
       "      <td>0.533903</td>\n",
       "      <td>0.487179</td>\n",
       "    </tr>\n",
       "    <tr>\n",
       "      <th>503</th>\n",
       "      <td>1.0</td>\n",
       "      <td>50.355966</td>\n",
       "      <td>0.613813</td>\n",
       "      <td>0</td>\n",
       "      <td>3</td>\n",
       "      <td>0.697256</td>\n",
       "      <td>0.723389</td>\n",
       "      <td>0.723389</td>\n",
       "      <td>3.615181</td>\n",
       "      <td>2.615181</td>\n",
       "      <td>...</td>\n",
       "      <td>0.727408</td>\n",
       "      <td>0.727408</td>\n",
       "      <td>3.668488</td>\n",
       "      <td>2.668488</td>\n",
       "      <td>0.727115</td>\n",
       "      <td>0.727408</td>\n",
       "      <td>3.664544</td>\n",
       "      <td>2.668488</td>\n",
       "      <td>0.714781</td>\n",
       "      <td>0.761194</td>\n",
       "    </tr>\n",
       "  </tbody>\n",
       "</table>\n",
       "<p>5 rows × 28 columns</p>\n",
       "</div>"
      ],
      "text/plain": [
       "      X1         X2        X3  D  Y  m_oracle  m_glm_ate  m_glm_att  \\\n",
       "440  0.0  56.356133  0.460435  1  5  0.822556   0.692997        NaN   \n",
       "573  1.0  57.711232  0.855114  1  6  0.906115   0.853122        NaN   \n",
       "946  0.0  43.881830  0.511292  0  8  0.488151   0.621186   0.621186   \n",
       "997  0.0  46.555424  0.267957  0  4  0.502323   0.510210   0.510210   \n",
       "503  1.0  50.355966  0.613813  0  3  0.697256   0.723389   0.723389   \n",
       "\n",
       "     m_glm_ate_weights  m_glm_att_weights  ...  m_ipt_ate  m_ipt_att  \\\n",
       "440           1.443007           1.000000  ...   0.685265        NaN   \n",
       "573           1.172165           1.000000  ...   0.844481        NaN   \n",
       "946           2.639818           1.639818  ...   0.622317   0.622317   \n",
       "997           2.041692           1.041692  ...   0.506252   0.506252   \n",
       "503           3.615181           2.615181  ...   0.727408   0.727408   \n",
       "\n",
       "     m_ipt_ate_weights  m_ipt_att_weights  m_cbps_ate  m_cbps_att  \\\n",
       "440           1.459290           1.000000    0.698910         NaN   \n",
       "573           1.184159           1.000000    0.857552         NaN   \n",
       "946           2.647724           1.647724    0.624533    0.622317   \n",
       "997           2.025327           1.025327    0.512571    0.506252   \n",
       "503           3.668488           2.668488    0.727115    0.727408   \n",
       "\n",
       "     m_cbps_ate_weights  m_cbps_att_weights     m_hat  m_calibrated  \n",
       "440            1.430799            1.000000  0.691062      0.701754  \n",
       "573            1.166110            1.000000  0.833973      0.833333  \n",
       "946            2.663350            1.647724  0.632499      0.522167  \n",
       "997            2.051581            1.025327  0.533903      0.487179  \n",
       "503            3.664544            2.668488  0.714781      0.761194  \n",
       "\n",
       "[5 rows x 28 columns]"
      ]
     },
     "execution_count": 27,
     "metadata": {},
     "output_type": "execute_result"
    }
   ],
   "source": [
    "import numpy as np\n",
    "import pandas as pd\n",
    "from sklearn.model_selection import train_test_split\n",
    "from sklearn.ensemble import RandomForestClassifier\n",
    "from sklearn.linear_model import LogisticRegression\n",
    "from sklearn.isotonic import IsotonicRegression\n",
    "import os\n",
    "# Set environment variables\n",
    "os.environ['R_HOME'] = 'C:\\\\Program Files\\\\R\\\\R-4.3.0' \n",
    "os.environ['PATH'] = os.environ['R_HOME'] + '\\\\bin\\\\x64;' + os.environ['PATH']\n",
    "import rpy2.robjects as robjects\n",
    "from rpy2.robjects import pandas2ri\n",
    "from rpy2.robjects.packages import importr\n",
    "#from rpy2.robjects.packages import importr, isinstalled,\n",
    "\n",
    "# Set environment variables for R\n",
    "os.environ['R_HOME'] = 'C:\\\\Program Files\\\\R\\\\R-4.3.0'  # Replace with your actual R installation path\n",
    "os.environ['PATH'] = os.environ['R_HOME'] + '\\\\bin\\\\x64;' + os.environ['PATH']\n",
    "\n",
    "\n",
    "# Activate pandas2ri conversion\n",
    "pandas2ri.activate()\n",
    "\n",
    "\n",
    "clipping_threshold = 1e-12\n",
    "np.random.seed(42)\n",
    "\n",
    "# Estimate rebalancing weights and propensity scores of alternative methods on full data set\n",
    "\n",
    "weightit_pkg = importr('WeightIt')\n",
    "# Define the formula for WeightIt\n",
    "formula = robjects.Formula('D ~ X1 + X2 + X3')\n",
    "\n",
    "data = pd.DataFrame({\n",
    "    'X1': x[:,0],\n",
    "    'X2': x[:,1],\n",
    "    'X3': x[:,2],\n",
    "    'D': treatment,\n",
    "    'Y': outcome,\n",
    "    'm_oracle': m_0,\n",
    "    #'treatment_effect': [-1] * n_obs\n",
    "})\n",
    "\n",
    "for method in ['glm', 'optweight', 'ebal', 'ipt','cbps']:\n",
    "\n",
    "    data_r = pandas2ri.py2rpy(data)\n",
    "    weightit_ate = robjects.r['weightit'](formula, data=data_r, estimand=\"ATE\", method=method)\n",
    "    weightit_att = robjects.r['weightit'](formula, data=data_r, estimand=\"ATT\", method=method)\n",
    "\n",
    "    weights_ate = weightit_ate.rx2('weights')\n",
    "    ate_estimate= weightit_ate.rx2('estimand')\n",
    "\n",
    "    weights_att = weightit_att.rx2('weights')\n",
    "    att_estimate= weightit_att.rx2('estimand')\n",
    "    # Calculate the propensity scores based on weights and treatment assignment\n",
    "    propensity_scores = data['D'] / weights_ate + (1 - data['D'])*(1-1/(weights_ate))\n",
    "    data[f'm_{method}_ate'] = propensity_scores.clip(clipping_threshold, 1.0 - clipping_threshold)\n",
    "    propensity_scores = (weights_att - data['D']) / ((1-data['D']) + (weights_att-data['D'])) \n",
    "    data[f'm_{method}_att'] = propensity_scores.clip(clipping_threshold, 1.0 - clipping_threshold)\n",
    "\n",
    "    data[f'm_{method}_ate_weights'] = weights_ate\n",
    "    data[f'm_{method}_att_weights'] = weights_att\n",
    "\n",
    "# Split the data into training and testing sets\n",
    "covariates = ['X1', 'X2', 'X3']\n",
    "df_train, df_test = train_test_split(data, test_size=0.5, random_state=42)\n",
    "\n",
    "# Fit a Logistic Regression to estimate the propensity scores\n",
    "model = LogisticRegression(random_state=42)\n",
    "model.fit(df_train[covariates], df_train['D'])\n",
    "#weights_cobalt = []\n",
    "\n",
    "for df in [df_train, df_test]:\n",
    "    df['m_hat'] = model.predict_proba(df[covariates])[:, 1]\n",
    "    calibrator = IsotonicRegression(out_of_bounds='clip', y_min=0, y_max=1)\n",
    "    df['m_calibrated'] = calibrator.fit_transform(df['m_hat'], df['D'])\n",
    "\n",
    "df_train.head()"
   ]
  },
  {
   "cell_type": "code",
   "execution_count": 28,
   "metadata": {},
   "outputs": [],
   "source": [
    "clipping_threshold = 0.01\n",
    "\n",
    "for df in [df_train, df_test]:\n",
    "    for ps in ['m_oracle', 'm_hat', 'm_calibrated','m_ipt_ate', 'm_ebal_ate','m_glm_ate', 'm_cbps_ate', 'm_optweight_ate']:\n",
    "        ps_clipped = df[ps].clip(clipping_threshold, 1.0 - clipping_threshold)\n",
    "\n",
    "        df[f'{ps}_ate_weights'] = df['D'] / ps_clipped + (1 - df['D']) / (1 - ps_clipped)\n",
    "        df[f'{ps}_att_weights'] = df['D'] + (1 - df['D']) * ps_clipped / (1 - ps_clipped)"
   ]
  },
  {
   "cell_type": "code",
   "execution_count": 29,
   "metadata": {},
   "outputs": [],
   "source": [
    "dgp_name = \"drug_2\"\n",
    "\n",
    "df_train.to_csv(f'results/{dgp_name}_train.csv', index=False)\n",
    "df_test.to_csv(f'results/{dgp_name}_test.csv', index=False)"
   ]
  }
 ],
 "metadata": {
  "kernelspec": {
   "display_name": "prop_calib",
   "language": "python",
   "name": "python3"
  },
  "language_info": {
   "codemirror_mode": {
    "name": "ipython",
    "version": 3
   },
   "file_extension": ".py",
   "mimetype": "text/x-python",
   "name": "python",
   "nbconvert_exporter": "python",
   "pygments_lexer": "ipython3",
   "version": "3.10.13"
  }
 },
 "nbformat": 4,
 "nbformat_minor": 2
}
