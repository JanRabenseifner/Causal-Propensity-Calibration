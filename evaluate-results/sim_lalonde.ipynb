{
  "cells": [
    {
      "cell_type": "markdown",
      "metadata": {},
      "source": [
        "## Introduction\n",
        "\n",
        "We illustrate the use of sensitivity analysis on the famous Lalonde data set. There are basically three different samples, one *experimental* and two *non-experimental* subsets. The samples have previously been used for sensitivity analysis, for example in Imbens (2003) and, more recently, in [Veitch and Zaveri (2020)](https://proceedings.neurips.cc/paper/2020/hash/7d265aa7147bd3913fb84c7963a209d1-Abstract.html).\n",
        "\n",
        "A nice feature about the Lalonde data set is that makes it possible to compare the results from an experimental setting to an observational setting. Hence, we can compare the robustness of the results from an observational causal study to an experimental study, which is very unlikely affected by unobserved confounding. In this notebook, we basically replicate the sensitivity analysis in Imbens (2003) and [Veitch and Zaveri (2020)](https://proceedings.neurips.cc/paper/2020/hash/7d265aa7147bd3913fb84c7963a209d1-Abstract.html). A very nice notebook on the Lalonde data is also provided by [Yiqing Xu](https://yiqingxu.org/tutorials/lalonde/). \n",
        "\n",
        "The goal of the causal analysis is the evaluation of the *National Supported Work (NSW)* Demonstration, which is a labor market training program in the US. The program provides work experience for a period of up to 18 months to individuals with economic and social problems, with the aim to increase their labor market performance (for further empirical analyis of the data, see Chapter 4 of Huber (2023), for example).\n",
        "\n",
        "## Data\n",
        "\n",
        "We organize our analysis along the lines of Imbens (2003) and [Veitch and Zaveri (2020)](https://proceedings.neurips.cc/paper/2020/hash/7d265aa7147bd3913fb84c7963a209d1-Abstract.html) who consider (among others) two different sample specifications:\n",
        "\n",
        "1. *Experimental Sample* - treated and control units randomly selected from the original experimental sample\n",
        "2. *Lalonde Restricted Observational Sample* - selected sample of treated (148/185) and untreated (242/2490) units with individual earnings in 1975 and 1975 below $\\$5000$.\n",
        "3. *Lalonde Unrestriced Observational Sample* - treated from experimental sample and controls from full set of PSID observations.\n",
        "\n",
        "The original data files are available from the supplemental material of [Veitch and Zaveri (2020)](https://proceedings.neurips.cc/paper/2020/hash/7d265aa7147bd3913fb84c7963a209d1-Abstract.html).\n",
        "\n",
        "The data set contains nine covariates\n",
        "\n",
        "* married\n",
        "* age\n",
        "* indicators for black and Hispanic,\n",
        "* years of education\n",
        "* (real) earnings in 1974 and 1975,\n",
        "* and indicators for positive earnings in 1974 and 1975\n",
        "\n",
        "and the outcome (earnings in 1978). The treatment variable is an indicator for participation in the job training program.\n",
        "\n",
        "### 1. Experimental Sample"
      ]
    },
    {
      "cell_type": "code",
      "execution_count": 14,
      "metadata": {},
      "outputs": [
        {
          "data": {
            "text/plain": [
              "(445, 11)"
            ]
          },
          "execution_count": 14,
          "metadata": {},
          "output_type": "execute_result"
        }
      ],
      "source": [
        "import pandas as pd\n",
        "\n",
        "lalonde_exp = pd.read_csv('https://trainings.doubleml.org/datasets/imbens1.csv')\n",
        "lalonde_exp.shape"
      ]
    },
    {
      "cell_type": "markdown",
      "metadata": {},
      "source": [
        "### 2. Restricted Sample"
      ]
    },
    {
      "cell_type": "code",
      "execution_count": 15,
      "metadata": {},
      "outputs": [
        {
          "data": {
            "text/plain": [
              "(390, 11)"
            ]
          },
          "execution_count": 15,
          "metadata": {},
          "output_type": "execute_result"
        }
      ],
      "source": [
        "lalonde_restricted = pd.read_csv('https://trainings.doubleml.org/datasets/imbens4.csv')\n",
        "lalonde_restricted.shape"
      ]
    },
    {
      "cell_type": "markdown",
      "metadata": {},
      "source": [
        "### 3. Unrestricted Sample"
      ]
    },
    {
      "cell_type": "code",
      "execution_count": 16,
      "metadata": {},
      "outputs": [
        {
          "data": {
            "text/plain": [
              "(2675, 11)"
            ]
          },
          "execution_count": 16,
          "metadata": {},
          "output_type": "execute_result"
        }
      ],
      "source": [
        "lalonde_nonexp = pd.read_csv('https://trainings.doubleml.org/datasets/imbens2.csv')\n",
        "lalonde_nonexp.shape"
      ]
    },
    {
      "cell_type": "markdown",
      "metadata": {},
      "source": [
        "We will start estimating the causal effect of NSW based on the observational sample first. To address selection-into-treatment mechanisms that would invalidate the unconfoundedness assumption, we perform a sensitivity analysis based on the observational samples. We will then re-examine the analysis based on the experimental sample and then see to what extent can be replicated using a restricted observational sample."
      ]
    },
    {
      "cell_type": "markdown",
      "metadata": {},
      "source": [
        "### Brief Summary Statistics\n",
        "\n",
        "We mainly consider past earnings as a benchmark variable. To see the difference across the experimental and non-experimental samples, we plot the distribution of past earnings for the treated and control units."
      ]
    },
    {
      "cell_type": "code",
      "execution_count": 17,
      "metadata": {},
      "outputs": [],
      "source": [
        "import matplotlib.pyplot as plt\n",
        "import seaborn as sns\n",
        "sns.set()\n",
        "colors = sns.color_palette()\n",
        "plt.rcParams['figure.figsize'] = 6., 4\n",
        "sns.set(font_scale=1.5)\n",
        "sns.set_style('whitegrid', {'axes.spines.top': False,\n",
        "                            'axes.spines.bottom': False,\n",
        "                            'axes.spines.left': False,\n",
        "                            'axes.spines.right': False})"
      ]
    },
    {
      "cell_type": "code",
      "execution_count": 18,
      "metadata": {},
      "outputs": [
        {
          "data": {
            "text/plain": [
              "treatment\n",
              "0.0    Axes(0.08,0.07;0.87x0.81)\n",
              "1.0    Axes(0.08,0.07;0.87x0.81)\n",
              "Name: RE75, dtype: object"
            ]
          },
          "execution_count": 18,
          "metadata": {},
          "output_type": "execute_result"
        },
        {
          "data": {
            "image/png": "[encoded data removed]",
            "text/plain": [
              "<Figure size 600x400 with 1 Axes>"
            ]
          },
          "metadata": {},
          "output_type": "display_data"
        }
      ],
      "source": [
        "# Experimental sample\n",
        "lalonde_exp.groupby('treatment')['RE75'].plot.hist(bins = 20, alpha = 0.8, density = True, legend = True)"
      ]
    },
    {
      "cell_type": "code",
      "execution_count": 19,
      "metadata": {},
      "outputs": [
        {
          "data": {
            "text/plain": [
              "treatment\n",
              "0.0    Axes(0.08,0.07;0.87x0.81)\n",
              "1.0    Axes(0.08,0.07;0.87x0.81)\n",
              "Name: RE75, dtype: object"
            ]
          },
          "execution_count": 19,
          "metadata": {},
          "output_type": "execute_result"
        },
        {
          "data": {
            "image/png": "[encoded data removed]",
            "text/plain": [
              "<Figure size 600x400 with 1 Axes>"
            ]
          },
          "metadata": {},
          "output_type": "display_data"
        }
      ],
      "source": [
        "# Experimental sample\n",
        "lalonde_restricted.groupby('treatment')['RE75'].plot.hist(bins = 20, alpha = 0.8, density = True, legend = True)"
      ]
    },
    {
      "cell_type": "code",
      "execution_count": 20,
      "metadata": {},
      "outputs": [
        {
          "data": {
            "text/plain": [
              "treatment\n",
              "0.0    Axes(0.08,0.07;0.87x0.81)\n",
              "1.0    Axes(0.08,0.07;0.87x0.81)\n",
              "Name: RE75, dtype: object"
            ]
          },
          "execution_count": 20,
          "metadata": {},
          "output_type": "execute_result"
        },
        {
          "data": {
            "image/png": "[encoded data removed]",
            "text/plain": [
              "<Figure size 600x400 with 1 Axes>"
            ]
          },
          "metadata": {},
          "output_type": "display_data"
        }
      ],
      "source": [
        "lalonde_nonexp.groupby('treatment')['RE75'].plot.hist(bins = 20, alpha = 0.8, density = True, legend = True)"
      ]
    },
    {
      "cell_type": "markdown",
      "metadata": {},
      "source": [
        "## Causal Estimation: Partially Linear Regression\n",
        "\n",
        "We will first estimate the Average Treatment Effect (ATE) of the training on earnings using a partially linear regression model."
      ]
    },
    {
      "cell_type": "code",
      "execution_count": 21,
      "metadata": {},
      "outputs": [
        {
          "ename": "ImportError",
          "evalue": "cannot import name 'compute_ipw_wls' from 'utils_calibration' (c:\\Users\\janra\\OneDrive\\Documents\\GitHub\\Propensity-Calibration-Guidebook\\run-simulation\\py-files\\utils_calibration.py)",
          "output_type": "error",
          "traceback": [
            "\u001b[1;31m---------------------------------------------------------------------------\u001b[0m",
            "\u001b[1;31mImportError\u001b[0m                               Traceback (most recent call last)",
            "Cell \u001b[1;32mIn[21], line 24\u001b[0m\n\u001b[0;32m     22\u001b[0m \u001b[38;5;28;01mimport\u001b[39;00m \u001b[38;5;21;01mutils_calibration\u001b[39;00m\n\u001b[0;32m     23\u001b[0m \u001b[38;5;28;01mimport\u001b[39;00m \u001b[38;5;21;01mutils_dgps\u001b[39;00m\n\u001b[1;32m---> 24\u001b[0m \u001b[38;5;28;01mfrom\u001b[39;00m \u001b[38;5;21;01mutils_calibration\u001b[39;00m \u001b[38;5;28;01mimport\u001b[39;00m (\n\u001b[0;32m     25\u001b[0m     calibrate_propensity_score, \n\u001b[0;32m     26\u001b[0m     compute_ipw_wls,\n\u001b[0;32m     27\u001b[0m     calibration_errors\n\u001b[0;32m     28\u001b[0m )\n\u001b[0;32m     29\u001b[0m \u001b[38;5;28;01mfrom\u001b[39;00m \u001b[38;5;21;01mutils_dgps\u001b[39;00m \u001b[38;5;28;01mimport\u001b[39;00m dgp_wrapper\n",
            "\u001b[1;31mImportError\u001b[0m: cannot import name 'compute_ipw_wls' from 'utils_calibration' (c:\\Users\\janra\\OneDrive\\Documents\\GitHub\\Propensity-Calibration-Guidebook\\run-simulation\\py-files\\utils_calibration.py)"
          ]
        }
      ],
      "source": [
        "from causalml.match import NearestNeighborMatch\n",
        "from causalml.inference.meta import BaseXLearner\n",
        "from causalml.inference.meta import BaseTLearner\n",
        "from causalml.inference.meta import BaseRLearner\n",
        "from causalml.inference.meta import TMLELearner\n",
        "import statsmodels.formula.api as smf\n",
        "\n",
        "import os\n",
        "import datetime\n",
        "import time\n",
        "import warnings\n",
        "#from mpi4py import MPI\n",
        "import numpy as np\n",
        "import pandas as pd\n",
        "from sklearn.ensemble import RandomForestClassifier, RandomForestRegressor\n",
        "from sklearn.linear_model import (\n",
        "    LinearRegression, \n",
        "    LogisticRegression\n",
        ")\n",
        "from lightgbm import LGBMClassifier, LGBMRegressor\n",
        "import doubleml as dml\n",
        "import utils_calibration\n",
        "import utils_dgps\n",
        "from utils_calibration import (\n",
        "    calibrate_propensity_score, \n",
        "    compute_ipw_wls,\n",
        "    calibration_errors\n",
        ")\n",
        "from utils_dgps import dgp_wrapper"
      ]
    },
    {
      "cell_type": "code",
      "execution_count": null,
      "metadata": {},
      "outputs": [],
      "source": []
    },
    {
      "cell_type": "markdown",
      "metadata": {},
      "source": [
        "### Data Backend"
      ]
    },
    {
      "cell_type": "code",
      "execution_count": null,
      "metadata": {},
      "outputs": [],
      "source": [
        "x_cols = lalonde_exp.columns.drop(['RE78', 'treatment']).to_list()\n",
        "\n",
        "dml_data_nonexp = dml.DoubleMLData(lalonde_nonexp, y_col='RE78',\n",
        "                          d_cols='treatment',\n",
        "                          x_cols=x_cols)"
      ]
    },
    {
      "cell_type": "code",
      "execution_count": null,
      "metadata": {},
      "outputs": [],
      "source": [
        "\n",
        "dml_data_exp = dml.DoubleMLData(lalonde_exp, y_col='RE78',\n",
        "                          d_cols='treatment',\n",
        "                          x_cols=x_cols)"
      ]
    },
    {
      "cell_type": "code",
      "execution_count": null,
      "metadata": {},
      "outputs": [],
      "source": [
        "dml_data_restricted = dml.DoubleMLData(lalonde_restricted, y_col='RE78',\n",
        "                          d_cols='treatment',\n",
        "                          x_cols=x_cols)"
      ]
    },
    {
      "cell_type": "markdown",
      "metadata": {},
      "source": [
        "## References\n",
        "\n",
        "- Huber, Martin. 2023. *Causal Analysis: Impact Evaluation and Causal Machine Learning with Applications in r*. MIT Press.\n",
        "- Imbens, Guido W. 2003. “Sensitivity to Exogeneity Assumptions in Program Evaluation.” American Economic Review 93 (2): 126–32.\n",
        "- Veitch, Victor, and Anisha Zaveri. 2020. “Sense and Sensitivity Analysis: Simple Post-Hoc Analysis of Bias Due to Unobserved Confounding.” Advances in Neural Information Processing Systems 33: 10999–1009.\n"
      ]
    },
    {
      "cell_type": "markdown",
      "metadata": {},
      "source": [
        "# Calibration"
      ]
    },
    {
      "cell_type": "code",
      "execution_count": null,
      "metadata": {},
      "outputs": [],
      "source": [
        "from causalml.match import NearestNeighborMatch\n",
        "from causalml.inference.meta import BaseXLearner\n",
        "from causalml.inference.meta import BaseTLearner\n",
        "from causalml.inference.meta import BaseRLearner\n",
        "from causalml.inference.meta import TMLELearner\n",
        "import statsmodels.formula.api as smf\n",
        "\n",
        "import os\n",
        "import datetime\n",
        "import time\n",
        "import warnings\n",
        "import numpy as np\n",
        "import pandas as pd\n",
        "from sklearn.ensemble import RandomForestClassifier, RandomForestRegressor\n",
        "from sklearn.linear_model import (\n",
        "    LinearRegression, \n",
        "    LogisticRegression\n",
        ")\n",
        "from lightgbm import LGBMClassifier, LGBMRegressor\n",
        "\n",
        "import sys\n",
        "from pathlib import Path\n",
        "\n",
        "project_root = (\n",
        "    Path.cwd()\n",
        "    .parents[0]\n",
        ")\n",
        "sys.path.append(str(project_root/'run-simulation'/'py-files'))\n",
        "\n",
        "import doubleml as dml\n",
        "from utils_ate import (\n",
        "    calibrate_propensity_score, \n",
        "    compute_ipw_wls,\n",
        "    calibration_errors,\n",
        "    compute_ci_metrics,\n",
        "    create_results_dict\n",
        ")"
      ]
    },
    {
      "cell_type": "markdown",
      "metadata": {},
      "source": [
        "### Load the data sets"
      ]
    },
    {
      "cell_type": "code",
      "execution_count": null,
      "metadata": {},
      "outputs": [],
      "source": [
        "lalonde_exp = pd.read_csv('https://trainings.doubleml.org/datasets/imbens1.csv')\n",
        "lalonde_nonexp = pd.read_csv('https://trainings.doubleml.org/datasets/imbens2.csv')\n",
        "lalonde_restricted = pd.read_csv('https://trainings.doubleml.org/datasets/imbens4.csv')"
      ]
    },
    {
      "cell_type": "markdown",
      "metadata": {},
      "source": [
        "### Estimation setup"
      ]
    },
    {
      "cell_type": "code",
      "execution_count": null,
      "metadata": {},
      "outputs": [],
      "source": [
        "def estimate_ate(data, theta, learner_g, learner_m, n_folds, score, clipping_thresholds, calib_methods, m_0):\n",
        "\n",
        "    n_calib_methods = len(calib_methods)\n",
        "    n_clipping_thresholds = len(clipping_thresholds)\n",
        "\n",
        "    # Base array with shape (n_calib_methods, n_clipping_thresholds)\n",
        "    irm_coefs = np.full((n_calib_methods, n_clipping_thresholds), np.nan)\n",
        "\n",
        "    # Create multiple arrays of the same shape and fill value (np.nan)\n",
        "    irm_ses, irm_cover, irm_ci_length, K, rmses, ece_u, ece_q, ece_u_5, ece_q_5, mce, ece_l2, ipw_coefs, ipw_ses, ipw_ci_length,ipw_cover, plr_coefs, plr_ses,plr_ci_length,plr_cover = [\n",
        "        np.full_like(irm_coefs, np.nan) for _ in range(19)\n",
        "    ]\n",
        "\n",
        "    # Arrays with the string \"not specified\" and object dtype\n",
        "    name_calib_method, name_method = [\n",
        "        np.full_like(irm_coefs, \"not specified\", dtype=object) for _ in range(2)\n",
        "    ]\n",
        "\n",
        "    # Create arrays for match_* variables with shape (n_clipping_thresholds,)\n",
        "    match_coefs = np.full((n_calib_methods, n_clipping_thresholds), np.nan)\n",
        "    match_ses,match_ci_length, match_cover, K_match, rmses_match, ece_u_match, ece_q_match, ece_u_5_match, ece_q_5_match, mce_match, ece_l2_match = [\n",
        "        np.full_like(match_coefs, np.nan) for _ in range(11)\n",
        "    ]\n",
        "\n",
        "    # Create arrays for meta learners variables with shape (n_clipping_thresholds,)\n",
        "    X_coefs = np.full((n_calib_methods, n_clipping_thresholds), np.nan)\n",
        "    X_ci_length, X_cover, TMLE_coefs, TMLE_ci_length, TMLE_cover,  = [\n",
        "        np.full_like(X_coefs, np.nan) for _ in range(5)\n",
        "    ]\n",
        "\n",
        "    # set up the DoubleMLIRM models\n",
        "    dml_irm = dml.DoubleMLIRM(data,\n",
        "                            ml_g=learner_g,\n",
        "                            ml_m=learner_m,\n",
        "                            score=score,\n",
        "                            n_folds=n_folds,\n",
        "                            trimming_threshold=1e-12) \n",
        "    # fit standard model without calibration and save predictions\n",
        "    dml_irm.fit(n_jobs_cv=5)\n",
        "    smpls = dml_irm.smpls[0]\n",
        "    dml_irm_ext = dml.DoubleMLIRM(data,\n",
        "                                ml_g=dml.utils.DMLDummyRegressor(),\n",
        "                                ml_m=dml.utils.DMLDummyClassifier(),\n",
        "                                score=score,\n",
        "                                n_folds=n_folds,\n",
        "                                trimming_threshold=1e-12)\n",
        "    # set up the PLR model\n",
        "    dml_plr = dml.DoubleMLPLR(data,\n",
        "                              ml_l=learner_g,\n",
        "                              ml_m=learner_m,\n",
        "                              score=\"partialling out\",\n",
        "                              n_folds=n_folds)\n",
        "    dml_plr.fit(n_jobs_cv=5)\n",
        "    dml_plr_ext = dml.DoubleMLPLR(data,\n",
        "                                  ml_l=dml.utils.DMLDummyRegressor(),\n",
        "                                  ml_m=dml.utils.DMLDummyClassifier(),\n",
        "                                  score=\"partialling out\",\n",
        "                                  n_folds=n_folds)\n",
        "\n",
        "    prop_score = dml_irm.predictions[\"ml_m\"][:, :, 0].squeeze()\n",
        "    treatment = data.d\n",
        "    outcome = data.y\n",
        "    covariates = data.x\n",
        "\n",
        "    for i_clipping_threshold, clipping_threshold in enumerate(clipping_thresholds):                 \n",
        "\n",
        "        # re-fit model with calibration\n",
        "        for i_calib_method, (method, calib_method) in enumerate(calib_methods):\n",
        "            method = method\n",
        "            calib_method = calib_method\n",
        "            calib_prop_score = calibrate_propensity_score(\n",
        "                method=method,\n",
        "                covariates=covariates,\n",
        "                propensity_score=prop_score, \n",
        "                treatment=treatment, \n",
        "                learner_m=learner_m,\n",
        "                calib_method=calib_method,\n",
        "                clipping_threshold=clipping_threshold,\n",
        "                smpls=smpls,\n",
        "                true_propensity_score=None)\n",
        "            \n",
        "            df_X = pd.DataFrame(covariates, columns=[f'x_{i}' for i in range(covariates.shape[1])]) \n",
        "\n",
        "            df_pred = pd.DataFrame({\n",
        "            'd': treatment,\n",
        "            'y': outcome,\n",
        "            'prop_score': np.clip(calib_prop_score, \n",
        "                                0.0 + clipping_threshold, \n",
        "                                1.0 - clipping_threshold)\n",
        "            })\n",
        "            df_pred = pd.concat([df_pred, df_X], axis=1)\n",
        "            \n",
        "            # Perform nearest neighbor matching using causalml\n",
        "            psm = NearestNeighborMatch(\n",
        "                caliper=0.001,  # Equivalent to your threshold parameter\n",
        "                replace=False,\n",
        "                ratio=1,\n",
        "                random_state=42,\n",
        "                n_jobs = -1\n",
        "            )\n",
        "            \n",
        "            # Perform matching using external propensity scores\n",
        "            matched_data = psm.match(\n",
        "                data=df_pred,\n",
        "                treatment_col='d',\n",
        "                score_cols=['prop_score'],\n",
        "            )\n",
        "            \n",
        "            \n",
        "            # Estimate ATE with OLS\n",
        "            covariates_list = [str(col) for col in df_X.columns]  # Assuming df_X is your covariate DataFrame\n",
        "            model_formula = f'y ~ d + {\" + \".join(covariates_list)}'\n",
        "            model = smf.ols(model_formula, data=matched_data).fit()      \n",
        "            # Store results\n",
        "            match_coefs[i_calib_method,i_clipping_threshold] = model.params['d']\n",
        "            match_ses[i_calib_method,i_clipping_threshold] = model.bse['d']\n",
        "\n",
        "            confint = model.conf_int(alpha=0.05)\n",
        "\n",
        "            # Calculate the length of the confidence interval for 'd'\n",
        "            match_ci_length[i_calib_method,i_clipping_threshold] = confint.loc['d', 1] - confint.loc['d', 0]\n",
        "\n",
        "            # Check coverage: See if the true treatment effect theta is within the confidence interval for 'd'\n",
        "            match_cover[i_calib_method,i_clipping_threshold] = (confint.loc['d', 0] < theta) and (theta < confint.loc['d', 1])\n",
        "        \n",
        "            # Store propensity scores for calibration metrics\n",
        "            prop_score_match = matched_data['prop_score'].values\n",
        "            y_match = matched_data['y'].values\n",
        "            d_match = matched_data['d'].values\n",
        "            X_match = matched_data[df_X.columns].values\n",
        "\n",
        "            ece_u_match[i_calib_method,i_clipping_threshold] = calibration_errors(prop_score_match, d_match, \n",
        "                                                                                        strategy = 'uniform',norm='l1',n_bins= float(10))\n",
        "            ece_q_match[i_calib_method,i_clipping_threshold] = calibration_errors(prop_score_match, d_match,\n",
        "                                                                                        strategy = 'quantile',norm='l1',n_bins= float(10))\n",
        "            ece_u_5_match[i_calib_method,i_clipping_threshold] = calibration_errors(prop_score_match, d_match, \n",
        "                                                                                        strategy = 'uniform',norm='l1',n_bins= float(5))\n",
        "            ece_q_5_match[i_calib_method,i_clipping_threshold] = calibration_errors(prop_score_match, d_match,\n",
        "                                                                                        strategy = 'quantile',norm='l1',n_bins= float(5))            \n",
        "            ece_l2_match[i_calib_method,i_clipping_threshold] = calibration_errors(prop_score_match, d_match,\n",
        "                                                                            strategy = 'uniform',norm='l2',n_bins= float(10))\n",
        "            mce_match[i_calib_method,i_clipping_threshold] = calibration_errors(prop_score_match, d_match,\n",
        "                                                                                    strategy = 'uniform',norm='max',n_bins= float(10))\n",
        "            # store n-unique propensity scores\n",
        "            prop_values, inverse_map, counts = np.unique(prop_score_match, return_inverse=True, return_counts=True)\n",
        "            K_match[i_calib_method,i_clipping_threshold] = len(prop_values)\n",
        "            rmses_match[i_calib_method,i_clipping_threshold] = np.sqrt(((prop_score_match -  d_match) ** 2).mean())\n",
        "\n",
        "\n",
        "            # Add X Learner, TMLE Learner\n",
        "\n",
        "            #[X_coefs[i_calib_method,i_clipping_threshold], X_lower, X_upper] = BaseXLearner(learner=learner_g).estimate_ate(X=df_X, treatment=df_pred['d'], \n",
        "            #                                                                                                y=df_pred['y'],p=df_pred['prop_score'],\n",
        "            #                                                                                                bootstrap_ci=True, n_bootstraps =100)\n",
        "            #X_ci_length[i_calib_method,i_clipping_threshold], X_cover[i_calib_method,i_clipping_threshold] = compute_ci_metrics(theta, X_lower, X_upper).values()\n",
        "\n",
        "            [TMLE_coefs[i_calib_method,i_clipping_threshold], TMLE_lower, TMLE_upper] = TMLELearner(learner=learner_g,calibrate_propensity=False).estimate_ate(X=df_X, treatment=df_pred['d'], \n",
        "                                                                                                                    y=df_pred['y'],p=df_pred['prop_score'],\n",
        "                                                                                                                    return_ci =True)\n",
        "            TMLE_ci_length[i_calib_method,i_clipping_threshold], TMLE_cover[i_calib_method,i_clipping_threshold] = compute_ci_metrics(theta, TMLE_lower, TMLE_upper).values() \n",
        "\n",
        "            #[T_coefs[i_calib_method,i_clipping_threshold], T_lower, T_upper] = BaseTLearner(learner=learner_g).estimate_ate(X=df_X, treatment=df_pred['d'],\n",
        "            #                                                                                                                y=df_pred['y'],p=df_pred['prop_score'],bootstrap_ci =True)\n",
        "            #T_ci_length[i_calib_method,i_clipping_threshold], T_cover[i_calib_method,i_clipping_threshold] = compute_ci_metrics(theta, T_lower, T_upper).values() \n",
        "            #[R_coefs[i_calib_method,i_clipping_threshold], R_lower, R_upper] = BaseRLearner(learner=learner_g).estimate_ate(X=df_X, treatment=df_pred['d'],\n",
        "            #                                                                                                                y=df_pred['y'],p=df_pred['prop_score'],bootstrap_ci =True)  \n",
        "            #R_ci_length[i_calib_method,i_clipping_threshold], R_cover[i_calib_method,i_clipping_threshold] = compute_ci_metrics(theta, R_lower, R_upper).values() \n",
        "\n",
        "            # fit irm model with external predictions\n",
        "            pred_dict_irm_calib = {\"d\": {\n",
        "                \"ml_g0\": dml_irm.predictions[\"ml_g0\"][:, :, 0],\n",
        "                \"ml_g1\": dml_irm.predictions[\"ml_g1\"][:, :, 0],\n",
        "                \"ml_m\": calib_prop_score.reshape(-1, 1),\n",
        "                }\n",
        "            }\n",
        "            dml_irm_ext.fit(external_predictions=pred_dict_irm_calib)\n",
        "            \n",
        "            # fit plr model with external predictions\n",
        "            pred_dict_plr_calib = {\"d\": {\n",
        "                \"ml_l\": dml_plr.predictions[\"ml_l\"][:, :, 0],\n",
        "                \"ml_m\": calib_prop_score.reshape(-1, 1),\n",
        "                }\n",
        "            }\n",
        "            dml_plr_ext.fit(external_predictions=pred_dict_plr_calib)\n",
        "\n",
        "            irm_coefs[i_calib_method, i_clipping_threshold] = dml_irm_ext.coef[0]\n",
        "            irm_ses[i_calib_method, i_clipping_threshold] = dml_irm_ext.se[0]\n",
        "            irm_confint_calib = dml_irm_ext.confint()\n",
        "            irm_cover[i_calib_method, i_clipping_threshold] = (irm_confint_calib.loc['d', '2.5 %'] < theta) & (theta < irm_confint_calib.loc['d', '97.5 %'])\n",
        "            irm_ci_length[i_calib_method, i_clipping_threshold]  = irm_confint_calib.loc['d', '97.5 %'] - irm_confint_calib.loc['d', '2.5 %']\n",
        "            rmses[i_calib_method, i_clipping_threshold] = np.sqrt(((calib_prop_score - treatment) ** 2).mean())\n",
        "            name_method[i_calib_method, i_clipping_threshold] = method\n",
        "            name_calib_method[i_calib_method, i_clipping_threshold] = calib_method\n",
        "            ece_u[i_calib_method, i_clipping_threshold] = calibration_errors(calib_prop_score, treatment, \n",
        "                                                                                     strategy = 'uniform',norm='l1',n_bins= float(10))\n",
        "            ece_q[i_calib_method, i_clipping_threshold] = calibration_errors(calib_prop_score, treatment,\n",
        "                                                                                     strategy = 'quantile',norm='l1',n_bins= float(10))\n",
        "            ece_u_5[i_calib_method, i_clipping_threshold] = calibration_errors(calib_prop_score, treatment, \n",
        "                                                                                     strategy = 'uniform',norm='l1',n_bins= float(5))\n",
        "            ece_q_5[i_calib_method, i_clipping_threshold] = calibration_errors(calib_prop_score, treatment,\n",
        "                                                                                     strategy = 'quantile',norm='l1',n_bins= float(5))            \n",
        "            ece_l2[i_calib_method, i_clipping_threshold] = calibration_errors(calib_prop_score, treatment,\n",
        "                                                                                      strategy = 'uniform',norm='l2',n_bins= float(10))\n",
        "            mce[i_calib_method, i_clipping_threshold] = calibration_errors(calib_prop_score, treatment,\n",
        "                                                                                   strategy = 'uniform',norm='max',n_bins= float(10))\n",
        "            # store n-unique propensity scores\n",
        "            prop_values, inverse_map, counts = np.unique(calib_prop_score, return_inverse=True, return_counts=True)\n",
        "            K[i_calib_method, i_clipping_threshold] = len(prop_values)\n",
        "            ipw = compute_ipw_wls(calib_prop_score, treatment, outcome,theta)\n",
        "\n",
        "            ipw_coefs[i_calib_method, i_clipping_threshold] = ipw['IPW_coefs']\n",
        "            ipw_ses[i_calib_method, i_clipping_threshold] = ipw['IPW_ses']\n",
        "            ipw_ci_length[i_calib_method, i_clipping_threshold] = ipw['IPW_ci_length']\n",
        "            ipw_cover[i_calib_method, i_clipping_threshold] = ipw['IPW_cover']\n",
        "            plr_coefs[i_calib_method, i_clipping_threshold] = dml_plr_ext.coef[0]\n",
        "            plr_ses[i_calib_method, i_clipping_threshold] = dml_plr_ext.se[0]\n",
        "            plr_confint_calib = dml_plr_ext.confint()\n",
        "            plr_cover[i_calib_method, i_clipping_threshold] = (plr_confint_calib.loc['d', '2.5 %'] < theta) & (theta < plr_confint_calib.loc['d', '97.5 %'])\n",
        "            plr_ci_length[i_calib_method, i_clipping_threshold]  = plr_confint_calib.loc['d', '97.5 %'] - plr_confint_calib.loc['d', '2.5 %']\n",
        "\n",
        "    # Define common metrics structure\n",
        "    METRICS = [\n",
        "        \"irm_coefs\", \"irm_ses\", \"irm_cover\", \"irm_ci_length\",\n",
        "        \"K\", \"rmses\", \"method\", \"calib_method\",\n",
        "        \"ipw_coefs\", \"ipw_ses\", \"ipw_cover\", \"ipw_ci_length\",\n",
        "        \"plr_coefs\", \"plr_ses\", \"plr_cover\", \"plr_ci_length\",\n",
        "        \"ece_u\", \"ece_q\", \"ece_u_5\", \"ece_q_5\", \"ece_l2\", \"mce\",\n",
        "        \"match_coefs\", \"match_ses\", \"match_ci_length\", \"match_cover\",\n",
        "        \"X_coefs\", \"X_ci_length\", \"X_cover\", \n",
        "        \"TMLE_coefs\", \"TMLE_ci_length\", \"TMLE_cover\"\n",
        "    ]\n",
        "    \n",
        "    n_calib_methods = len(calib_methods)\n",
        "    n_clipping_thresholds = len(clipping_thresholds)\n",
        "    base_shape = (n_calib_methods, n_clipping_thresholds)\n",
        "    results_dict_calib = create_results_dict(\n",
        "        base_shape=(n_calib_methods, n_clipping_thresholds),\n",
        "        fill_data={\n",
        "            \"irm_coefs\": irm_coefs,\n",
        "            \"irm_ses\": irm_ses,\n",
        "            \"irm_cover\": irm_cover,\n",
        "            \"irm_ci_length\": irm_ci_length,\n",
        "            \"K\": K,\n",
        "            \"rmses\": rmses,\n",
        "            \"method\": name_method,\n",
        "            \"calib_method\": name_calib_method,\n",
        "            \"ipw_coefs\": ipw_coefs,\n",
        "            \"ipw_ses\": ipw_ses,\n",
        "            \"ipw_cover\": ipw_cover,\n",
        "            \"ipw_ci_length\": ipw_ci_length,\n",
        "            \"plr_coefs\": plr_coefs,\n",
        "            \"plr_ses\": plr_ses,\n",
        "            \"plr_cover\": plr_cover,\n",
        "            \"plr_ci_length\": plr_ci_length,\n",
        "            \"ece_u\": ece_u,\n",
        "            \"ece_q\": ece_q,\n",
        "            \"ece_u_5\": ece_u_5,\n",
        "            \"ece_q_5\": ece_q_5,        \n",
        "            \"ece_l2\": ece_l2,        \n",
        "            \"mce\": mce\n",
        "        },\n",
        "        metrics_dict=METRICS,\n",
        "    )\n",
        "\n",
        "    results_dict_match = create_results_dict(\n",
        "        base_shape=(n_calib_methods, n_clipping_thresholds),\n",
        "        fill_data={\n",
        "            \"K\": K_match,  \n",
        "            \"rmses\": rmses_match,\n",
        "            \"method\": name_method,\n",
        "            \"calib_method\": name_calib_method,\n",
        "            \"ece_u\": ece_u_match,\n",
        "            \"ece_q\": ece_q_match,\n",
        "            \"ece_u_5\": ece_u_5_match,\n",
        "            \"ece_q_5\": ece_q_5_match,\n",
        "            \"ece_l2\": ece_l2_match,\n",
        "            \"mce\": mce_match,\n",
        "            \"match_coefs\": match_coefs,\n",
        "            \"match_ses\": match_ses,\n",
        "            \"match_ci_length\": match_ci_length,\n",
        "            \"match_cover\": match_cover\n",
        "        },\n",
        "        metrics_dict=METRICS\n",
        "    )\n",
        "\n",
        "    results_dict_meta = create_results_dict(\n",
        "        base_shape=(n_calib_methods, n_clipping_thresholds),\n",
        "        fill_data={\n",
        "            \"method\": name_method,\n",
        "            \"calib_method\": name_calib_method,\n",
        "            \"X_coefs\": X_coefs,\n",
        "            \"X_ci_length\": X_ci_length,\n",
        "            \"X_cover\": X_cover,\n",
        "            \"TMLE_coefs\": TMLE_coefs,\n",
        "            \"TMLE_ci_length\": TMLE_ci_length,\n",
        "            \"TMLE_cover\": TMLE_cover\n",
        "        },\n",
        "        metrics_dict=METRICS\n",
        "    )\n",
        "\n",
        "    return results_dict_calib, results_dict_match, results_dict_meta\n"
      ]
    },
    {
      "cell_type": "code",
      "execution_count": null,
      "metadata": {},
      "outputs": [],
      "source": [
        "clipping_thresholds = [1e-12, 0.01, 0.1]\n",
        "\n",
        "calib_methods = [\n",
        "    ('alg-1-uncalibrated', 'uncalibrated'),\n",
        "    #('alg-3-cross-fitted-calib', 'isotonic'),\n",
        "    #('alg-3-cross-fitted-calib', 'platt'),\n",
        "    #('alg-3-cross-fitted-calib', 'ivap'),\n",
        "    ('alg-5-full-sample-calib', 'isotonic'),\n",
        "    ('alg-5-full-sample-calib', 'platt'),\n",
        "    ('alg-5-full-sample-calib', 'ivap'),\n",
        "    #('oracle', 'uncalibrated')\n",
        "]"
      ]
    },
    {
      "cell_type": "code",
      "execution_count": null,
      "metadata": {},
      "outputs": [],
      "source": [
        "n_folds = 5\n",
        "score = \"ATE\"\n",
        "\n",
        "theta = 1794.34 \n",
        "\n",
        "learner_dict_g = {\n",
        "    'Linear': LinearRegression(),\n",
        "    #'RF': RandomForestRegressor(random_state=None),\n",
        "    'LGBM': LGBMRegressor(verbose=-1, random_state=None),\n",
        "    }\n",
        "\n",
        "learner_dict_m = {\n",
        "    'Logit': LogisticRegression(),\n",
        "    #'RF': RandomForestClassifier(random_state=None),\n",
        "    'LGBM': LGBMClassifier(verbose=-1, random_state=None),\n",
        "    }\n",
        "i_rep = 0\n",
        "R2_d = 0 "
      ]
    },
    {
      "cell_type": "code",
      "execution_count": null,
      "metadata": {},
      "outputs": [],
      "source": [
        "result_dfs = {}\n",
        "\n",
        "for i, df_lalonde in enumerate([lalonde_exp, lalonde_nonexp, lalonde_restricted], start=1):\n",
        "\n",
        "    df = pd.DataFrame(columns=[\n",
        "    \"irm_coefs\", \"irm_ses\", \"irm_cover\", \"irm_ci_length\", \"K\", \"rmses\", \"method\", \"calib_method\",\n",
        "    \"ipw_coefs\",\"ipw_ses\", \"ipw_cover\", \"ipw_ci_length\", \"plr_coefs\",\"plr_ses\", \"plr_cover\", \"plr_ci_length\",\n",
        "    \"match_coefs\",\"match_ses\", \"match_ci_length\",\"match_cover\", \n",
        "    \"X_coefs\", \"X_ci_length\", \"X_cover\", \"TMLE_coefs\", \"TMLE_ci_length\", \"TMLE_cover\",\n",
        "    \"learner_g\", \"learner_m\", \"n_obs\", \"dim_x\", \"R2_d\", \"clipping_threshold\", \"repetition\",\n",
        "    \"ece_u\", \"ece_q\", \"ece_u_5\", \"ece_q_5\", \"ece_l2\", \"mce\"])\n",
        "\n",
        "    x_cols = df_lalonde.columns.drop(['RE78', 'treatment']).to_list()\n",
        "    df_lalonde.rename(columns={'RE78': 'y', 'treatment': 'd'}, inplace=True)\n",
        "    x_cols = df_lalonde.columns.drop(['y', 'd']).to_list()\n",
        "\n",
        "\n",
        "    dml_data = dml.DoubleMLData(df_lalonde, y_col='y',\n",
        "                            d_cols='d',\n",
        "                            x_cols=x_cols)\n",
        "\n",
        "    n_obs = df_lalonde.shape[0]\n",
        "    dim_x = len(x_cols)\n",
        "    dml_data = dml_data\n",
        "    m_0 = None\n",
        "    for i_learner_g, (name_learner_g, learner_g) in enumerate(learner_dict_g.items()):\n",
        "        for i_learner_m, (name_learner_m, learner_m) in enumerate(learner_dict_m.items()):\n",
        "            random_state_value = 42 + i_rep\n",
        "            if hasattr(learner_m, 'random_state'):\n",
        "                learner_m.random_state = random_state_value\n",
        "            if hasattr(learner_g, 'random_state'):\n",
        "                learner_g.random_state = random_state_value\n",
        "\n",
        "            results_dict_calib, results_dict_match, results_dict_meta = estimate_ate(\n",
        "                dml_data, theta, learner_g, learner_m, n_folds, score, clipping_thresholds, calib_methods, m_0\n",
        "            )\n",
        "\n",
        "            result_columns = [\n",
        "                \"irm_coefs\", \"irm_ses\", \"irm_cover\", \"irm_ci_length\", \"K\", \"rmses\",\n",
        "                \"method\", \"calib_method\", \"ipw_coefs\", \"ipw_ses\", \"ipw_cover\", \"ipw_ci_length\",\n",
        "                \"plr_coefs\", \"plr_ses\", \"plr_cover\", \"plr_ci_length\",\n",
        "                \"match_coefs\", \"match_ses\", \"match_ci_length\", \"match_cover\",\n",
        "                \"X_coefs\", \"X_ci_length\", \"X_cover\", \"TMLE_coefs\", \"TMLE_ci_length\", \"TMLE_cover\",\n",
        "                \"ece_u\", \"ece_q\", \"ece_u_5\", \"ece_q_5\", \"ece_l2\", \"mce\"\n",
        "            ]\n",
        "\n",
        "            common_metadata = {\n",
        "                \"learner_g\": name_learner_g,\n",
        "                \"learner_m\": name_learner_m,\n",
        "                \"n_obs\": n_obs,\n",
        "                \"dim_x\": dim_x,\n",
        "                \"R2_d\": 0,\n",
        "                \"repetition\": 0         \n",
        "            }\n",
        "            n_calib_methods = len(calib_methods)\n",
        "            n_clipping_thresholds = len(clipping_thresholds)\n",
        "            \n",
        "            for i_clipping, clipping_threshold in enumerate(clipping_thresholds):\n",
        "                for results in [results_dict_calib, results_dict_match, results_dict_meta]:\n",
        "                    # Process calibration results\n",
        "                    result_data = {\n",
        "                        col: results[col][:, i_clipping]  # 1D slice\n",
        "                        for col in result_columns\n",
        "                    }\n",
        "                    result_data.update({\n",
        "                        k: np.full(n_calib_methods, v) \n",
        "                        for k, v in common_metadata.items()\n",
        "                    })\n",
        "                    result_data[\"clipping_threshold\"] = clipping_threshold\n",
        "                    df = pd.concat([df, pd.DataFrame(result_data)], ignore_index=True)\n",
        "    result_dfs[f'df_lalonde_{i}'] = df "
      ]
    },
    {
      "cell_type": "code",
      "execution_count": null,
      "metadata": {},
      "outputs": [],
      "source": [
        "df_lalonde_exp = result_dfs['df_lalonde_1']\n",
        "df_lalonde_nonexp = result_dfs['df_lalonde_2']\n",
        "df_lalonde_restricted = result_dfs['df_lalonde_3']\n",
        "df_lalonde_exp.to_pickle(f'{project_root}/evaluate-results/results/df_lalonde_exp.pkl')\n",
        "df_lalonde_nonexp.to_pickle(f'{project_root}/evaluate-results/results/df_lalonde_nonexp.pkl')\n",
        "df_lalonde_restricted.to_pickle(f'{project_root}/evaluate-results/results/df_lalonde_restricted.pkl')"
      ]
    }
  ],
  "metadata": {
    "kernelspec": {
      "display_name": "prop_calib",
      "language": "python",
      "name": "python3"
    },
    "language_info": {
      "codemirror_mode": {
        "name": "ipython",
        "version": 3
      },
      "file_extension": ".py",
      "mimetype": "text/x-python",
      "name": "python",
      "nbconvert_exporter": "python",
      "pygments_lexer": "ipython3",
      "version": "3.10.13"
    }
  },
  "nbformat": 4,
  "nbformat_minor": 4
}
